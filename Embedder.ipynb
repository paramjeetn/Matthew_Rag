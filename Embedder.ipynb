{
  "cells": [
    {
      "cell_type": "code",
      "execution_count": null,
      "metadata": {
        "collapsed": true,
        "id": "gDzAZSopUQS7"
      },
      "outputs": [],
      "source": [
        "#visualization tool for displaying long load/processing times\n",
        "pip install tqdm quiet\n",
        "#data processing\n",
        "pip install pandas quiet\n",
        "#workhorse for converting text into embeddings/vectors\n",
        "pip install sentence-transformers==2.2.2 quiet\n",
        "#data framework for LLM applications\n",
        "pip install llama-index==0.9.29\n",
        "#logging output\n",
        "pip install loguru==0.7.0 quiet\n",
        "#convenient pretty printing library\n",
        "pip install rich quiet\n",
        "#openai Tokenizer library\n",
        "pip install tiktoken quiet"
      ]
    },
    {
      "cell_type": "code",
      "execution_count": 2,
      "metadata": {
        "id": "U2gfyto0UbFz"
      },
      "outputs": [],
      "source": [
        "%load_ext autoreload\n",
        "%autoreload 2\n",
        "\n",
        "#standard libraries\n",
        "import sys\n",
        "sys.path.append('../')\n",
        "\n",
        "import os\n",
        "import time\n",
        "from typing import List, Tuple\n",
        "from math import ceil\n",
        "\n",
        "#external libraries\n",
        "import pandas as pd\n",
        "import numpy as np\n",
        "from rich import print\n",
        "from rich.pretty import pprint #nifty library for pretty printing\n",
        "from torch import cuda\n",
        "from tqdm import tqdm\n"
      ]
    },
    {
      "cell_type": "code",
      "execution_count": 6,
      "metadata": {
        "id": "6Yj1zCk2Uhw1"
      },
      "outputs": [],
      "source": [
        "data_path = 'chunked_256_token.json'\n",
        "import json\n",
        "with open(data_path, 'r') as file:\n",
        "    data = json.load(file)"
      ]
    },
    {
      "cell_type": "code",
      "execution_count": null,
      "metadata": {
        "collapsed": true,
        "id": "PQOEVH3xUur3"
      },
      "outputs": [],
      "source": [
        "from sentence_transformers import SentenceTransformer\n",
        "\n",
        "#define the model you want to use\n",
        "model_name = 'sentence-transformers/all-MiniLM-L6-v2'\n",
        "model = SentenceTransformer(model_name)"
      ]
    },
    {
      "cell_type": "code",
      "execution_count": null,
      "metadata": {
        "id": "IzDaH1MaVDNa"
      },
      "outputs": [],
      "source": [
        "embedded_data = []\n",
        "count = 0\n",
        "for con in data:\n",
        "    video_id = con['video_id']\n",
        "    title = con['title']\n",
        "    guest = con['guest']\n",
        "    likes_count = con['likes_count']\n",
        "    content = con['content']\n",
        "    doc_id = con['doc_id']\n",
        "    start_time = con['start']\n",
        "    duration = con['duration']\n",
        "    content = con['content']\n",
        "    vector=model.encode(content)\n",
        "    vector = [vector.tolist() for vector in vector]\n",
        "    embedded_data.append({\n",
        "            \"doc_id\": doc_id,\n",
        "            \"video_id\": video_id,\n",
        "            \"title\": title,\n",
        "            \"guest\": guest,\n",
        "            \"likes_count\": int(likes_count),\n",
        "            \"start\": start_time,\n",
        "            \"duration\": duration,\n",
        "            \"content\": content,\n",
        "            \"vector\": vector\n",
        "        })\n",
        "    print(count, \" )\", len(vector))\n",
        "    count+=1\n"
      ]
    },
    {
      "cell_type": "code",
      "execution_count": null,
      "metadata": {
        "id": "zciS_1HjY7VQ"
      },
      "outputs": [],
      "source": [
        "output_file_path = 'embedded_dataset.json'\n",
        "with open(output_file_path, 'w', encoding='utf-8') as outfile:\n",
        "    json.dump(embedded_data, outfile, ensure_ascii=False, indent=4)\n",
        "\n",
        "print(f\"Data saved to {output_file_path}\")"
      ]
    }
  ],
  "metadata": {
    "colab": {
      "provenance": []
    },
    "kernelspec": {
      "display_name": "Python 3",
      "name": "python3"
    },
    "language_info": {
      "name": "python"
    }
  },
  "nbformat": 4,
  "nbformat_minor": 0
}
